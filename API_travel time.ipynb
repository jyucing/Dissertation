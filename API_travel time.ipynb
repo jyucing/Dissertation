{
 "cells": [
  {
   "cell_type": "code",
   "execution_count": 19,
   "id": "4896f931-2363-4ba3-af7a-06da4c0f66e1",
   "metadata": {},
   "outputs": [],
   "source": [
    "import json\n",
    "from urllib import request, error\n",
    "import pandas as pd\n",
    "from itertools import product"
   ]
  },
  {
   "cell_type": "markdown",
   "id": "83eaaf92-8923-498f-9d95-c48886c5edae",
   "metadata": {},
   "source": [
    "# Build OD"
   ]
  },
  {
   "cell_type": "markdown",
   "id": "0a15e324-e6e0-4ac8-8bda-ecfc445ffe9f",
   "metadata": {},
   "source": [
    "Data can be downloaded from https://drive.google.com/drive/folders/1GOhMd0UbGnod2Kgtyw5k8_3KYFlEBHT0?usp=sharing"
   ]
  },
  {
   "cell_type": "code",
   "execution_count": 20,
   "id": "d574e99f-f394-4527-853d-9b7124d3b5db",
   "metadata": {},
   "outputs": [],
   "source": [
    "# Read OD file\n",
    "file = pd.read_csv('Data/accessibility/rework/OD_54km.csv', encoding='gbk')"
   ]
  },
  {
   "cell_type": "code",
   "execution_count": 21,
   "id": "60cddd1c-e3f9-4e4a-8888-f63075e612f3",
   "metadata": {
    "scrolled": true
   },
   "outputs": [
    {
     "data": {
      "text/plain": [
       "Index(['Index', 'IN_FID', 'NEAR_FID', 'NEAR_DIST', 'NEAR_RANK', '序号', '机构名',\n",
       "       '机构地', '行政区', '机构类', '机构级', '经营性', '床位数', '牙椅数', 'wgs_lng', 'wgs_lat',\n",
       "       'POP', 'lng_84', 'lon_84', 'gcj_lng_D', 'gcj_lat_D', 'gcj_lng_O',\n",
       "       'gcj_lat_O'],\n",
       "      dtype='object')"
      ]
     },
     "execution_count": 21,
     "metadata": {},
     "output_type": "execute_result"
    }
   ],
   "source": [
    "# Check\n",
    "file.columns"
   ]
  },
  {
   "cell_type": "code",
   "execution_count": 22,
   "id": "6571c070-0636-42f1-8519-42470a20041f",
   "metadata": {},
   "outputs": [],
   "source": [
    "## Reduced latitude and longitude decimal places to 6 (API compliant)\n",
    "file['gcj_lng_D_6'] =  file['gcj_lng_D'].apply(lambda x: float(f\"{x:.6f}\"))\n",
    "file['gcj_lat_D_6'] =  file['gcj_lat_D'].apply(lambda x: float(f\"{x:.6f}\"))\n",
    "file['gcj_lng_O_6'] =  file['gcj_lng_O'].apply(lambda x: float(f\"{x:.6f}\"))\n",
    "file['gcj_lat_O_6'] =  file['gcj_lat_O'].apply(lambda x: float(f\"{x:.6f}\"))\n",
    "## Connecting latitude and longitude\n",
    "file['gcj_D'] = file.apply(lambda row: f\"{row['gcj_lng_D_6']},{row['gcj_lat_D_6']}\", axis=1)\n",
    "file['gcj_O'] = file.apply(lambda row: f\"{row['gcj_lng_O_6']},{row['gcj_lat_O_6']}\", axis=1)\n",
    "file['gcj_OD'] = file.apply(lambda row: f\"{row['gcj_O']};{row['gcj_D']}\", axis=1)"
   ]
  },
  {
   "cell_type": "code",
   "execution_count": 23,
   "id": "27bf6892-bb66-4973-b4e7-7de85316b79b",
   "metadata": {
    "scrolled": true
   },
   "outputs": [
    {
     "data": {
      "text/plain": [
       "3429"
      ]
     },
     "execution_count": 23,
     "metadata": {},
     "output_type": "execute_result"
    }
   ],
   "source": [
    "# Double check\n",
    "len(file)"
   ]
  },
  {
   "cell_type": "code",
   "execution_count": 24,
   "id": "8629c2d8-e70a-4982-afb3-a9753a2d43fd",
   "metadata": {
    "scrolled": true
   },
   "outputs": [
    {
     "data": {
      "text/html": [
       "<div>\n",
       "<style scoped>\n",
       "    .dataframe tbody tr th:only-of-type {\n",
       "        vertical-align: middle;\n",
       "    }\n",
       "\n",
       "    .dataframe tbody tr th {\n",
       "        vertical-align: top;\n",
       "    }\n",
       "\n",
       "    .dataframe thead th {\n",
       "        text-align: right;\n",
       "    }\n",
       "</style>\n",
       "<table border=\"1\" class=\"dataframe\">\n",
       "  <thead>\n",
       "    <tr style=\"text-align: right;\">\n",
       "      <th></th>\n",
       "      <th>Index</th>\n",
       "      <th>IN_FID</th>\n",
       "      <th>NEAR_FID</th>\n",
       "      <th>NEAR_DIST</th>\n",
       "      <th>NEAR_RANK</th>\n",
       "      <th>序号</th>\n",
       "      <th>机构名</th>\n",
       "      <th>机构地</th>\n",
       "      <th>行政区</th>\n",
       "      <th>机构类</th>\n",
       "      <th>...</th>\n",
       "      <th>gcj_lat_D</th>\n",
       "      <th>gcj_lng_O</th>\n",
       "      <th>gcj_lat_O</th>\n",
       "      <th>gcj_lng_D_6</th>\n",
       "      <th>gcj_lat_D_6</th>\n",
       "      <th>gcj_lng_O_6</th>\n",
       "      <th>gcj_lat_O_6</th>\n",
       "      <th>gcj_D</th>\n",
       "      <th>gcj_O</th>\n",
       "      <th>gcj_OD</th>\n",
       "    </tr>\n",
       "  </thead>\n",
       "  <tbody>\n",
       "    <tr>\n",
       "      <th>0</th>\n",
       "      <td>0</td>\n",
       "      <td>0</td>\n",
       "      <td>410</td>\n",
       "      <td>356.067221</td>\n",
       "      <td>1</td>\n",
       "      <td>A1</td>\n",
       "      <td>广州市第一人民医院</td>\n",
       "      <td>广州市盘福路1号</td>\n",
       "      <td>越秀区</td>\n",
       "      <td>综合医院</td>\n",
       "      <td>...</td>\n",
       "      <td>23.131318</td>\n",
       "      <td>113.254681</td>\n",
       "      <td>23.130864</td>\n",
       "      <td>113.258122</td>\n",
       "      <td>23.131318</td>\n",
       "      <td>113.254681</td>\n",
       "      <td>23.130864</td>\n",
       "      <td>113.258122,23.131318</td>\n",
       "      <td>113.254681,23.130864</td>\n",
       "      <td>113.254681,23.130864;113.258122,23.131318</td>\n",
       "    </tr>\n",
       "    <tr>\n",
       "      <th>1</th>\n",
       "      <td>106</td>\n",
       "      <td>0</td>\n",
       "      <td>629</td>\n",
       "      <td>12712.344540</td>\n",
       "      <td>107</td>\n",
       "      <td>A1</td>\n",
       "      <td>广州市第一人民医院</td>\n",
       "      <td>广州市盘福路1号</td>\n",
       "      <td>越秀区</td>\n",
       "      <td>综合医院</td>\n",
       "      <td>...</td>\n",
       "      <td>23.131318</td>\n",
       "      <td>113.217453</td>\n",
       "      <td>23.239799</td>\n",
       "      <td>113.258122</td>\n",
       "      <td>23.131318</td>\n",
       "      <td>113.217453</td>\n",
       "      <td>23.239799</td>\n",
       "      <td>113.258122,23.131318</td>\n",
       "      <td>113.217453,23.239799</td>\n",
       "      <td>113.217453,23.239799;113.258122,23.131318</td>\n",
       "    </tr>\n",
       "    <tr>\n",
       "      <th>2</th>\n",
       "      <td>517</td>\n",
       "      <td>0</td>\n",
       "      <td>401</td>\n",
       "      <td>31715.007350</td>\n",
       "      <td>518</td>\n",
       "      <td>A1</td>\n",
       "      <td>广州市第一人民医院</td>\n",
       "      <td>广州市盘福路1号</td>\n",
       "      <td>越秀区</td>\n",
       "      <td>综合医院</td>\n",
       "      <td>...</td>\n",
       "      <td>23.131318</td>\n",
       "      <td>113.566411</td>\n",
       "      <td>23.107887</td>\n",
       "      <td>113.258122</td>\n",
       "      <td>23.131318</td>\n",
       "      <td>113.566411</td>\n",
       "      <td>23.107887</td>\n",
       "      <td>113.258122,23.131318</td>\n",
       "      <td>113.566411,23.107887</td>\n",
       "      <td>113.566411,23.107887;113.258122,23.131318</td>\n",
       "    </tr>\n",
       "    <tr>\n",
       "      <th>3</th>\n",
       "      <td>572</td>\n",
       "      <td>0</td>\n",
       "      <td>402</td>\n",
       "      <td>33711.050870</td>\n",
       "      <td>573</td>\n",
       "      <td>A1</td>\n",
       "      <td>广州市第一人民医院</td>\n",
       "      <td>广州市盘福路1号</td>\n",
       "      <td>越秀区</td>\n",
       "      <td>综合医院</td>\n",
       "      <td>...</td>\n",
       "      <td>23.131318</td>\n",
       "      <td>113.585891</td>\n",
       "      <td>23.107545</td>\n",
       "      <td>113.258122</td>\n",
       "      <td>23.131318</td>\n",
       "      <td>113.585891</td>\n",
       "      <td>23.107545</td>\n",
       "      <td>113.258122,23.131318</td>\n",
       "      <td>113.585891,23.107545</td>\n",
       "      <td>113.585891,23.107545;113.258122,23.131318</td>\n",
       "    </tr>\n",
       "    <tr>\n",
       "      <th>4</th>\n",
       "      <td>732</td>\n",
       "      <td>0</td>\n",
       "      <td>609</td>\n",
       "      <td>38939.503170</td>\n",
       "      <td>733</td>\n",
       "      <td>A1</td>\n",
       "      <td>广州市第一人民医院</td>\n",
       "      <td>广州市盘福路1号</td>\n",
       "      <td>越秀区</td>\n",
       "      <td>综合医院</td>\n",
       "      <td>...</td>\n",
       "      <td>23.131318</td>\n",
       "      <td>113.627019</td>\n",
       "      <td>23.215234</td>\n",
       "      <td>113.258122</td>\n",
       "      <td>23.131318</td>\n",
       "      <td>113.627019</td>\n",
       "      <td>23.215234</td>\n",
       "      <td>113.258122,23.131318</td>\n",
       "      <td>113.627019,23.215234</td>\n",
       "      <td>113.627019,23.215234;113.258122,23.131318</td>\n",
       "    </tr>\n",
       "  </tbody>\n",
       "</table>\n",
       "<p>5 rows × 30 columns</p>\n",
       "</div>"
      ],
      "text/plain": [
       "   Index  IN_FID  NEAR_FID     NEAR_DIST  NEAR_RANK  序号        机构名       机构地  \\\n",
       "0      0       0       410    356.067221          1  A1  广州市第一人民医院  广州市盘福路1号   \n",
       "1    106       0       629  12712.344540        107  A1  广州市第一人民医院  广州市盘福路1号   \n",
       "2    517       0       401  31715.007350        518  A1  广州市第一人民医院  广州市盘福路1号   \n",
       "3    572       0       402  33711.050870        573  A1  广州市第一人民医院  广州市盘福路1号   \n",
       "4    732       0       609  38939.503170        733  A1  广州市第一人民医院  广州市盘福路1号   \n",
       "\n",
       "   行政区   机构类  ...  gcj_lat_D   gcj_lng_O  gcj_lat_O  gcj_lng_D_6  gcj_lat_D_6  \\\n",
       "0  越秀区  综合医院  ...  23.131318  113.254681  23.130864   113.258122    23.131318   \n",
       "1  越秀区  综合医院  ...  23.131318  113.217453  23.239799   113.258122    23.131318   \n",
       "2  越秀区  综合医院  ...  23.131318  113.566411  23.107887   113.258122    23.131318   \n",
       "3  越秀区  综合医院  ...  23.131318  113.585891  23.107545   113.258122    23.131318   \n",
       "4  越秀区  综合医院  ...  23.131318  113.627019  23.215234   113.258122    23.131318   \n",
       "\n",
       "   gcj_lng_O_6  gcj_lat_O_6                 gcj_D                 gcj_O  \\\n",
       "0   113.254681    23.130864  113.258122,23.131318  113.254681,23.130864   \n",
       "1   113.217453    23.239799  113.258122,23.131318  113.217453,23.239799   \n",
       "2   113.566411    23.107887  113.258122,23.131318  113.566411,23.107887   \n",
       "3   113.585891    23.107545  113.258122,23.131318  113.585891,23.107545   \n",
       "4   113.627019    23.215234  113.258122,23.131318  113.627019,23.215234   \n",
       "\n",
       "                                      gcj_OD  \n",
       "0  113.254681,23.130864;113.258122,23.131318  \n",
       "1  113.217453,23.239799;113.258122,23.131318  \n",
       "2  113.566411,23.107887;113.258122,23.131318  \n",
       "3  113.585891,23.107545;113.258122,23.131318  \n",
       "4  113.627019,23.215234;113.258122,23.131318  \n",
       "\n",
       "[5 rows x 30 columns]"
      ]
     },
     "execution_count": 24,
     "metadata": {},
     "output_type": "execute_result"
    }
   ],
   "source": [
    "file.head()"
   ]
  },
  {
   "cell_type": "markdown",
   "id": "7249322b-2b83-4aeb-8115-01561c894cef",
   "metadata": {},
   "source": [
    "# Call the API to calculate the time cost"
   ]
  },
  {
   "cell_type": "code",
   "execution_count": 25,
   "id": "f3c13913-9170-4f39-8a48-2208b35c50e4",
   "metadata": {},
   "outputs": [],
   "source": [
    "# Prepare output file\n",
    "output = open('Data/accessibility/rework/OD_Cost.txt', 'wb')"
   ]
  },
  {
   "cell_type": "code",
   "execution_count": 26,
   "id": "4543e110-28e7-48cc-b9d8-ad1f8b4c3fc8",
   "metadata": {},
   "outputs": [],
   "source": [
    "# Check\n",
    "#for i in OD[:5]:\n",
    "    #origin, destination = i.split(';')\n",
    "    #print(url)"
   ]
  },
  {
   "cell_type": "markdown",
   "id": "677b5f7e-c765-4f5e-950b-cb5c1d989f64",
   "metadata": {},
   "source": [
    "The next step may takes several hours."
   ]
  },
  {
   "cell_type": "code",
   "execution_count": 27,
   "id": "98b72882-c27d-4535-9961-84be2d9f1f98",
   "metadata": {},
   "outputs": [
    {
     "name": "stdout",
     "output_type": "stream",
     "text": [
      "URLError(SSLEOFError(8, '[SSL: UNEXPECTED_EOF_WHILE_READING] EOF occurred in violation of protocol (_ssl.c:1006)'))\n",
      "RemoteDisconnected('Remote end closed connection without response')\n",
      "URLError(SSLEOFError(8, '[SSL: UNEXPECTED_EOF_WHILE_READING] EOF occurred in violation of protocol (_ssl.c:1006)'))\n",
      "RemoteDisconnected('Remote end closed connection without response')\n",
      "RemoteDisconnected('Remote end closed connection without response')\n",
      "RemoteDisconnected('Remote end closed connection without response')\n",
      "RemoteDisconnected('Remote end closed connection without response')\n",
      "RemoteDisconnected('Remote end closed connection without response')\n"
     ]
    }
   ],
   "source": [
    "for index, i in enumerate(file['gcj_OD']):\n",
    "    # paras\n",
    "    origin, destination = i.split(';')\n",
    "    key = '551f5e5fadec9095b3fbd3fe20de292f'\n",
    "    strategy = 5  # 0：Recomended Mode（Bus+Subway）；5：No-Subway Mode\n",
    "    url = f\"https://restapi.amap.com/v5/direction/transit/integrated?key={key}&origin={origin}&destination={destination}&city1=020&city2=020&strategy={strategy}&show_fields=cost\"\n",
    "\n",
    "    try:\n",
    "        html = request.urlopen(url, timeout=30).read()\n",
    "        js = json.loads(html)\n",
    "\n",
    "        d = js.get('route', {}).get('distance', '未知距离') # distance\n",
    "        transits = js.get('route', {}).get('transits', [])\n",
    "\n",
    "        if transits:\n",
    "            t = transits[0]['cost']['duration'] # travel time\n",
    "            c = transits[0]['cost']['transit_fee'] #travel fare\n",
    "        else:\n",
    "            t = 0\n",
    "            c = 0\n",
    "\n",
    "        out = f\"{index},{d},{t},{c}\\n\"\n",
    "        output.write(out.encode('utf-8'))\n",
    "\n",
    "    except Exception as e:\n",
    "        print(repr(e))\n",
    "        output.write(f\"{index},{url}\".encode('utf-8'))\n",
    "\n",
    "output.close()"
   ]
  },
  {
   "cell_type": "markdown",
   "id": "8fdb4202-ab3b-4d9b-a5df-96aee7077b0d",
   "metadata": {},
   "source": [
    "------------------------------\n",
    "\n",
    "The last cell is referenced from https://www.bilibili.com/video/BV1Tu411o7HH/?spm_id_from=333.880.my_history.page.click&vd_source=5b3fc5cf8a7a6f65932dc659545c9c2a"
   ]
  }
 ],
 "metadata": {
  "kernelspec": {
   "display_name": "Python 3 (ipykernel)",
   "language": "python",
   "name": "python3"
  },
  "language_info": {
   "codemirror_mode": {
    "name": "ipython",
    "version": 3
   },
   "file_extension": ".py",
   "mimetype": "text/x-python",
   "name": "python",
   "nbconvert_exporter": "python",
   "pygments_lexer": "ipython3",
   "version": "3.11.5"
  }
 },
 "nbformat": 4,
 "nbformat_minor": 5
}
