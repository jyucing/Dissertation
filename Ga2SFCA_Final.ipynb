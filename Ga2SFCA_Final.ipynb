{
 "cells": [
  {
   "cell_type": "markdown",
   "id": "732c9194-65ed-4a7e-929b-742725b6979f",
   "metadata": {},
   "source": [
    "# 1 Data preprocessing"
   ]
  },
  {
   "cell_type": "code",
   "execution_count": 1,
   "id": "e58e36cd-5cff-40f3-945e-55f9605d0fda",
   "metadata": {},
   "outputs": [],
   "source": [
    "import pandas as pd\n",
    "import geopandas as gpd\n",
    "import numpy as np"
   ]
  },
  {
   "cell_type": "markdown",
   "id": "9e5a938a-2247-470f-a706-d0a1f6fe9930",
   "metadata": {},
   "source": [
    "Data can be downloaded from https://drive.google.com/drive/folders/1GOhMd0UbGnod2Kgtyw5k8_3KYFlEBHT0?usp=sharing"
   ]
  },
  {
   "cell_type": "code",
   "execution_count": 2,
   "id": "43f10c67-ad62-4d80-a2ba-8c4d72002e9e",
   "metadata": {},
   "outputs": [
    {
     "name": "stderr",
     "output_type": "stream",
     "text": [
      "/tmp/ipykernel_5792/957129089.py:1: DtypeWarning: Columns (37,42,45,49,54,56) have mixed types. Specify dtype option on import or set low_memory=False.\n",
      "  OD = pd.read_csv(\"Data/accessibility/ODcost_final/OD_cost_final.csv\", encoding = \"gbk\")\n"
     ]
    }
   ],
   "source": [
    "OD = pd.read_csv(\"Data/accessibility/ODcost_final/OD_cost_final.csv\", encoding = \"gbk\")"
   ]
  },
  {
   "cell_type": "code",
   "execution_count": 3,
   "id": "25a2d172-5326-4ed1-b54b-380aeb1dfec2",
   "metadata": {},
   "outputs": [
    {
     "data": {
      "text/html": [
       "<div>\n",
       "<style scoped>\n",
       "    .dataframe tbody tr th:only-of-type {\n",
       "        vertical-align: middle;\n",
       "    }\n",
       "\n",
       "    .dataframe tbody tr th {\n",
       "        vertical-align: top;\n",
       "    }\n",
       "\n",
       "    .dataframe thead th {\n",
       "        text-align: right;\n",
       "    }\n",
       "</style>\n",
       "<table border=\"1\" class=\"dataframe\">\n",
       "  <thead>\n",
       "    <tr style=\"text-align: right;\">\n",
       "      <th></th>\n",
       "      <th>Index</th>\n",
       "      <th>IN_FID</th>\n",
       "      <th>NEAR_FID</th>\n",
       "      <th>NEAR_DIST</th>\n",
       "      <th>NEAR_RANK</th>\n",
       "      <th>序号</th>\n",
       "      <th>机构名</th>\n",
       "      <th>机构地</th>\n",
       "      <th>行政区</th>\n",
       "      <th>机构类</th>\n",
       "      <th>...</th>\n",
       "      <th>Rj.1</th>\n",
       "      <th>Unnamed: 48</th>\n",
       "      <th>NEAR_FID.2</th>\n",
       "      <th>求和项:Gij*Rj2</th>\n",
       "      <th>Unnamed: 51</th>\n",
       "      <th>Unnamed: 52</th>\n",
       "      <th>Unnamed: 53</th>\n",
       "      <th>△T.1</th>\n",
       "      <th>Count</th>\n",
       "      <th>Percentage</th>\n",
       "    </tr>\n",
       "  </thead>\n",
       "  <tbody>\n",
       "    <tr>\n",
       "      <th>0</th>\n",
       "      <td>1</td>\n",
       "      <td>0</td>\n",
       "      <td>411</td>\n",
       "      <td>1649.255304</td>\n",
       "      <td>2</td>\n",
       "      <td>A1</td>\n",
       "      <td>广州市第一人民医院</td>\n",
       "      <td>广州市盘福路1号</td>\n",
       "      <td>越秀区</td>\n",
       "      <td>综合医院</td>\n",
       "      <td>...</td>\n",
       "      <td>0.000097</td>\n",
       "      <td>NaN</td>\n",
       "      <td>20</td>\n",
       "      <td>0.000006</td>\n",
       "      <td>NaN</td>\n",
       "      <td>0.000002</td>\n",
       "      <td>NaN</td>\n",
       "      <td>&gt;=0</td>\n",
       "      <td>2299.0</td>\n",
       "      <td>10.11%</td>\n",
       "    </tr>\n",
       "  </tbody>\n",
       "</table>\n",
       "<p>1 rows × 57 columns</p>\n",
       "</div>"
      ],
      "text/plain": [
       "   Index  IN_FID  NEAR_FID    NEAR_DIST  NEAR_RANK  序号        机构名       机构地  \\\n",
       "0      1       0       411  1649.255304          2  A1  广州市第一人民医院  广州市盘福路1号   \n",
       "\n",
       "   行政区   机构类  ...      Rj.1 Unnamed: 48  NEAR_FID.2  求和项:Gij*Rj2  Unnamed: 51  \\\n",
       "0  越秀区  综合医院  ...  0.000097         NaN          20     0.000006          NaN   \n",
       "\n",
       "   Unnamed: 52  Unnamed: 53  △T.1   Count  Percentage  \n",
       "0     0.000002          NaN   >=0  2299.0      10.11%  \n",
       "\n",
       "[1 rows x 57 columns]"
      ]
     },
     "execution_count": 3,
     "metadata": {},
     "output_type": "execute_result"
    }
   ],
   "source": [
    "OD.head(1)"
   ]
  },
  {
   "cell_type": "code",
   "execution_count": 4,
   "id": "d30de840-39b2-48cd-9ba9-95f8c2b96ca6",
   "metadata": {
    "scrolled": true
   },
   "outputs": [
    {
     "data": {
      "text/plain": [
       "['Index',\n",
       " 'IN_FID',\n",
       " 'NEAR_FID',\n",
       " 'NEAR_DIST',\n",
       " 'NEAR_RANK',\n",
       " '序号',\n",
       " '机构名',\n",
       " '机构地',\n",
       " '行政区',\n",
       " '机构类',\n",
       " '机构级',\n",
       " '经营性',\n",
       " '床位数',\n",
       " '牙椅数',\n",
       " 'wgs_lng',\n",
       " 'wgs_lat',\n",
       " 'POP',\n",
       " 'lng_84',\n",
       " 'lon_84',\n",
       " 'gcj_lng_D',\n",
       " 'gcj_lat_D',\n",
       " 'gcj_lng_O',\n",
       " 'gcj_lat_O',\n",
       " 'Distance',\n",
       " 'Time',\n",
       " 'Cost',\n",
       " 'Distance_5',\n",
       " 'Time_5',\n",
       " 'Cost_5',\n",
       " '△T',\n",
       " '△C',\n",
       " 'Gij',\n",
       " 'Gij*Dk',\n",
       " 'Rj1',\n",
       " 'Gij*Rj1',\n",
       " 'Rj2',\n",
       " 'Gij*Rj2',\n",
       " 'IN_FID.1',\n",
       " '求和Gij*Dk',\n",
       " 'Sj',\n",
       " 'Rj',\n",
       " 'Unnamed: 41',\n",
       " 'NEAR_FID.1',\n",
       " '求和项:Gij*Rj',\n",
       " 'Unnamed: 44',\n",
       " 'IN_FID.2',\n",
       " '求和项:Gij*Dk',\n",
       " 'Rj.1',\n",
       " 'Unnamed: 48',\n",
       " 'NEAR_FID.2',\n",
       " '求和项:Gij*Rj2',\n",
       " 'Unnamed: 51',\n",
       " 'Unnamed: 52',\n",
       " 'Unnamed: 53',\n",
       " '△T.1',\n",
       " 'Count',\n",
       " 'Percentage']"
      ]
     },
     "execution_count": 4,
     "metadata": {},
     "output_type": "execute_result"
    }
   ],
   "source": [
    "OD.columns.to_list()"
   ]
  },
  {
   "cell_type": "code",
   "execution_count": 5,
   "id": "26dc361f-a2c9-45ce-93f7-7c99c6c804ca",
   "metadata": {},
   "outputs": [],
   "source": [
    "# Reduce unnecessary columns\n",
    "OD = OD[['Index', 'IN_FID', 'NEAR_FID', '机构名', '床位数', 'wgs_lng', 'wgs_lat', 'POP', 'lng_84', 'lon_84', 'Time', 'Cost','Time_5',\n",
    " 'Cost_5']]"
   ]
  },
  {
   "cell_type": "code",
   "execution_count": 6,
   "id": "e25b2b2b-a648-4a3e-a4b2-dbd8e438c30a",
   "metadata": {},
   "outputs": [],
   "source": [
    "# Adjust the number of beds (per thousand -- > per person)\n",
    "OD['床位数'] = OD['床位数'] * 1000"
   ]
  },
  {
   "cell_type": "code",
   "execution_count": 7,
   "id": "170946f1-addf-432e-9b6e-805258a57c88",
   "metadata": {
    "scrolled": true
   },
   "outputs": [
    {
     "data": {
      "text/html": [
       "<div>\n",
       "<style scoped>\n",
       "    .dataframe tbody tr th:only-of-type {\n",
       "        vertical-align: middle;\n",
       "    }\n",
       "\n",
       "    .dataframe tbody tr th {\n",
       "        vertical-align: top;\n",
       "    }\n",
       "\n",
       "    .dataframe thead th {\n",
       "        text-align: right;\n",
       "    }\n",
       "</style>\n",
       "<table border=\"1\" class=\"dataframe\">\n",
       "  <thead>\n",
       "    <tr style=\"text-align: right;\">\n",
       "      <th></th>\n",
       "      <th>Index</th>\n",
       "      <th>IN_FID</th>\n",
       "      <th>NEAR_FID</th>\n",
       "      <th>机构名</th>\n",
       "      <th>床位数</th>\n",
       "      <th>wgs_lng</th>\n",
       "      <th>wgs_lat</th>\n",
       "      <th>POP</th>\n",
       "      <th>lng_84</th>\n",
       "      <th>lon_84</th>\n",
       "      <th>Time</th>\n",
       "      <th>Cost</th>\n",
       "      <th>Time_5</th>\n",
       "      <th>Cost_5</th>\n",
       "    </tr>\n",
       "  </thead>\n",
       "  <tbody>\n",
       "    <tr>\n",
       "      <th>0</th>\n",
       "      <td>1</td>\n",
       "      <td>0</td>\n",
       "      <td>411</td>\n",
       "      <td>广州市第一人民医院</td>\n",
       "      <td>990000</td>\n",
       "      <td>113.252797</td>\n",
       "      <td>23.133996</td>\n",
       "      <td>120239.8201</td>\n",
       "      <td>113.268876</td>\n",
       "      <td>23.133263</td>\n",
       "      <td>2042</td>\n",
       "      <td>2</td>\n",
       "      <td>1974</td>\n",
       "      <td>2</td>\n",
       "    </tr>\n",
       "  </tbody>\n",
       "</table>\n",
       "</div>"
      ],
      "text/plain": [
       "   Index  IN_FID  NEAR_FID        机构名     床位数     wgs_lng    wgs_lat  \\\n",
       "0      1       0       411  广州市第一人民医院  990000  113.252797  23.133996   \n",
       "\n",
       "           POP      lng_84     lon_84  Time  Cost  Time_5  Cost_5  \n",
       "0  120239.8201  113.268876  23.133263  2042     2    1974       2  "
      ]
     },
     "execution_count": 7,
     "metadata": {},
     "output_type": "execute_result"
    }
   ],
   "source": [
    "# Check\n",
    "OD.head(1)"
   ]
  },
  {
   "cell_type": "markdown",
   "id": "e2ed51bc-e772-42c9-9238-038d5455573f",
   "metadata": {},
   "source": [
    "# 2 Define Functions"
   ]
  },
  {
   "cell_type": "code",
   "execution_count": 8,
   "id": "66726454-abb3-4bdc-8535-21120b9ba39e",
   "metadata": {},
   "outputs": [],
   "source": [
    "## Gaussian decay function\n",
    "def get_G(x, t): # x is the cost and t is the cost threshold\n",
    "    G = (np.exp(-0.5 * (x/t)**2) - np.exp(-0.5)) / (1 - np.exp(-0.5))\n",
    "    return G\n",
    "\n",
    "## G*Dk\n",
    "def get_1(df, c, t): # df is the data table to be calculated, c is the cost column name to be calculated, and t is the cost threshold\n",
    "    # Calculates and saves column G\n",
    "    df['G'] = df[c].apply(lambda x: get_G(x, t))\n",
    "    \n",
    "    # Calculate the G*Dk columns, using the already calculated G columns\n",
    "    df['G*Dk'] = df['POP'] * df['G']\n",
    "\n",
    "    return df"
   ]
  },
  {
   "cell_type": "code",
   "execution_count": 9,
   "id": "9847bb11-2439-4c3c-9138-8013cce0f718",
   "metadata": {},
   "outputs": [],
   "source": [
    "## G*Rj\n",
    "def get_2(df,r): # df is the data table to be calculated, r is the Rj column name (corresponding to the cost type), c is the cost column name to be calculated, and t is the cost threshold\n",
    "    df['G*Rj'] = df['G'] * df[r]\n",
    "    return df"
   ]
  },
  {
   "cell_type": "markdown",
   "id": "ac54b122-fdfb-4a39-9a02-f069a11d002e",
   "metadata": {},
   "source": [
    "# 3 Calculate Accessibility"
   ]
  },
  {
   "cell_type": "markdown",
   "id": "66a4f639-5a55-4989-ab49-6aaa634cdffe",
   "metadata": {},
   "source": [
    "## 3.1 Recomended Mode (With Subways)"
   ]
  },
  {
   "cell_type": "markdown",
   "id": "1653d62d-13b1-4840-b0c4-1cff6ec99457",
   "metadata": {},
   "source": [
    "### 3.1.1 Get Rj"
   ]
  },
  {
   "cell_type": "markdown",
   "id": "c81a78a8-c9b4-4c00-9ad6-85e601ff70cd",
   "metadata": {},
   "source": [
    "#### (1) Get G*Dk"
   ]
  },
  {
   "cell_type": "code",
   "execution_count": 10,
   "id": "f64d6e7a-3657-4eac-bae7-0797cc1cc713",
   "metadata": {},
   "outputs": [],
   "source": [
    "GD_0_t = get_1(OD, 'Time', 5400)"
   ]
  },
  {
   "cell_type": "code",
   "execution_count": 11,
   "id": "d585bb3c-7e75-4936-985e-6601ecabc818",
   "metadata": {
    "scrolled": true
   },
   "outputs": [
    {
     "data": {
      "text/html": [
       "<div>\n",
       "<style scoped>\n",
       "    .dataframe tbody tr th:only-of-type {\n",
       "        vertical-align: middle;\n",
       "    }\n",
       "\n",
       "    .dataframe tbody tr th {\n",
       "        vertical-align: top;\n",
       "    }\n",
       "\n",
       "    .dataframe thead th {\n",
       "        text-align: right;\n",
       "    }\n",
       "</style>\n",
       "<table border=\"1\" class=\"dataframe\">\n",
       "  <thead>\n",
       "    <tr style=\"text-align: right;\">\n",
       "      <th></th>\n",
       "      <th>IN_FID</th>\n",
       "      <th>Sum_G*Dk</th>\n",
       "    </tr>\n",
       "  </thead>\n",
       "  <tbody>\n",
       "    <tr>\n",
       "      <th>0</th>\n",
       "      <td>0</td>\n",
       "      <td>5.433669e+06</td>\n",
       "    </tr>\n",
       "    <tr>\n",
       "      <th>1</th>\n",
       "      <td>1</td>\n",
       "      <td>4.874315e+06</td>\n",
       "    </tr>\n",
       "  </tbody>\n",
       "</table>\n",
       "</div>"
      ],
      "text/plain": [
       "   IN_FID      Sum_G*Dk\n",
       "0       0  5.433669e+06\n",
       "1       1  4.874315e+06"
      ]
     },
     "execution_count": 11,
     "metadata": {},
     "output_type": "execute_result"
    }
   ],
   "source": [
    "# Aggregated by IN_FID\n",
    "GD_0_t_group = GD_0_t.groupby('IN_FID')['G*Dk'].sum()\n",
    "GD_0_t_group = pd.DataFrame(GD_0_t_group).reset_index(drop=False)\n",
    "GD_0_t_group.columns = ['IN_FID', 'Sum_G*Dk']\n",
    "GD_0_t_group.head(2)"
   ]
  },
  {
   "cell_type": "markdown",
   "id": "50da2098-60d5-454f-9ef8-87473b0ab47c",
   "metadata": {},
   "source": [
    "#### (2) Get Rj"
   ]
  },
  {
   "cell_type": "code",
   "execution_count": 12,
   "id": "ef39a3ec-f893-43ac-b285-0800fb40f781",
   "metadata": {},
   "outputs": [],
   "source": [
    "# join the classified and summarized G*Dk to the original df\n",
    "GD_0_t_merged = pd.merge(GD_0_t_group, GD_0_t[['IN_FID', '床位数']], on='IN_FID', how='left')\n",
    "## Delete duplicates\n",
    "GD_0_t_merged = GD_0_t_merged.drop_duplicates().reset_index(drop=True)"
   ]
  },
  {
   "cell_type": "code",
   "execution_count": 13,
   "id": "8197e1d8-d821-4fa0-9912-9a22a776d3f8",
   "metadata": {},
   "outputs": [
    {
     "data": {
      "text/html": [
       "<div>\n",
       "<style scoped>\n",
       "    .dataframe tbody tr th:only-of-type {\n",
       "        vertical-align: middle;\n",
       "    }\n",
       "\n",
       "    .dataframe tbody tr th {\n",
       "        vertical-align: top;\n",
       "    }\n",
       "\n",
       "    .dataframe thead th {\n",
       "        text-align: right;\n",
       "    }\n",
       "</style>\n",
       "<table border=\"1\" class=\"dataframe\">\n",
       "  <thead>\n",
       "    <tr style=\"text-align: right;\">\n",
       "      <th></th>\n",
       "      <th>IN_FID</th>\n",
       "      <th>Sum_G*Dk</th>\n",
       "      <th>床位数</th>\n",
       "    </tr>\n",
       "  </thead>\n",
       "  <tbody>\n",
       "    <tr>\n",
       "      <th>105</th>\n",
       "      <td>108</td>\n",
       "      <td>6.849864e+06</td>\n",
       "      <td>13000</td>\n",
       "    </tr>\n",
       "    <tr>\n",
       "      <th>46</th>\n",
       "      <td>47</td>\n",
       "      <td>4.729287e+05</td>\n",
       "      <td>400000</td>\n",
       "    </tr>\n",
       "    <tr>\n",
       "      <th>116</th>\n",
       "      <td>119</td>\n",
       "      <td>5.715605e+06</td>\n",
       "      <td>188000</td>\n",
       "    </tr>\n",
       "    <tr>\n",
       "      <th>71</th>\n",
       "      <td>73</td>\n",
       "      <td>5.250162e+05</td>\n",
       "      <td>700000</td>\n",
       "    </tr>\n",
       "    <tr>\n",
       "      <th>40</th>\n",
       "      <td>41</td>\n",
       "      <td>3.225205e+06</td>\n",
       "      <td>661000</td>\n",
       "    </tr>\n",
       "  </tbody>\n",
       "</table>\n",
       "</div>"
      ],
      "text/plain": [
       "     IN_FID      Sum_G*Dk     床位数\n",
       "105     108  6.849864e+06   13000\n",
       "46       47  4.729287e+05  400000\n",
       "116     119  5.715605e+06  188000\n",
       "71       73  5.250162e+05  700000\n",
       "40       41  3.225205e+06  661000"
      ]
     },
     "execution_count": 13,
     "metadata": {},
     "output_type": "execute_result"
    }
   ],
   "source": [
    "GD_0_t_merged.sample(5)"
   ]
  },
  {
   "cell_type": "code",
   "execution_count": 14,
   "id": "aa5c2748-60f0-4eb7-ac40-ac3ecf516478",
   "metadata": {},
   "outputs": [],
   "source": [
    "GD_0_t_merged['Rj'] = GD_0_t_merged['床位数'] / GD_0_t_merged['Sum_G*Dk']"
   ]
  },
  {
   "cell_type": "code",
   "execution_count": 15,
   "id": "9fe174c4-583b-48be-98b8-aeb9505d0df4",
   "metadata": {},
   "outputs": [
    {
     "data": {
      "text/html": [
       "<div>\n",
       "<style scoped>\n",
       "    .dataframe tbody tr th:only-of-type {\n",
       "        vertical-align: middle;\n",
       "    }\n",
       "\n",
       "    .dataframe tbody tr th {\n",
       "        vertical-align: top;\n",
       "    }\n",
       "\n",
       "    .dataframe thead th {\n",
       "        text-align: right;\n",
       "    }\n",
       "</style>\n",
       "<table border=\"1\" class=\"dataframe\">\n",
       "  <thead>\n",
       "    <tr style=\"text-align: right;\">\n",
       "      <th></th>\n",
       "      <th>IN_FID</th>\n",
       "      <th>Sum_G*Dk</th>\n",
       "      <th>床位数</th>\n",
       "      <th>Rj</th>\n",
       "    </tr>\n",
       "  </thead>\n",
       "  <tbody>\n",
       "    <tr>\n",
       "      <th>0</th>\n",
       "      <td>0</td>\n",
       "      <td>5.433669e+06</td>\n",
       "      <td>990000</td>\n",
       "      <td>0.182197</td>\n",
       "    </tr>\n",
       "    <tr>\n",
       "      <th>1</th>\n",
       "      <td>1</td>\n",
       "      <td>4.874315e+06</td>\n",
       "      <td>990000</td>\n",
       "      <td>0.203105</td>\n",
       "    </tr>\n",
       "    <tr>\n",
       "      <th>2</th>\n",
       "      <td>2</td>\n",
       "      <td>2.942505e+05</td>\n",
       "      <td>990000</td>\n",
       "      <td>3.364480</td>\n",
       "    </tr>\n",
       "    <tr>\n",
       "      <th>3</th>\n",
       "      <td>3</td>\n",
       "      <td>3.570272e+05</td>\n",
       "      <td>713000</td>\n",
       "      <td>1.997047</td>\n",
       "    </tr>\n",
       "    <tr>\n",
       "      <th>4</th>\n",
       "      <td>4</td>\n",
       "      <td>4.106888e+06</td>\n",
       "      <td>713000</td>\n",
       "      <td>0.173611</td>\n",
       "    </tr>\n",
       "  </tbody>\n",
       "</table>\n",
       "</div>"
      ],
      "text/plain": [
       "   IN_FID      Sum_G*Dk     床位数        Rj\n",
       "0       0  5.433669e+06  990000  0.182197\n",
       "1       1  4.874315e+06  990000  0.203105\n",
       "2       2  2.942505e+05  990000  3.364480\n",
       "3       3  3.570272e+05  713000  1.997047\n",
       "4       4  4.106888e+06  713000  0.173611"
      ]
     },
     "execution_count": 15,
     "metadata": {},
     "output_type": "execute_result"
    }
   ],
   "source": [
    "GD_0_t_merged.head(5)"
   ]
  },
  {
   "cell_type": "code",
   "execution_count": 16,
   "id": "1b2ae374-6eb6-4aaf-b1f5-2abbae633a3a",
   "metadata": {},
   "outputs": [],
   "source": [
    "OD_0_t_Rj = pd.merge(OD, GD_0_t_merged[['IN_FID', 'Rj']], on='IN_FID', how='left')"
   ]
  },
  {
   "cell_type": "code",
   "execution_count": 17,
   "id": "654c93d4-7b9d-4fd1-98fb-ca27435dffed",
   "metadata": {
    "scrolled": true
   },
   "outputs": [
    {
     "data": {
      "text/html": [
       "<div>\n",
       "<style scoped>\n",
       "    .dataframe tbody tr th:only-of-type {\n",
       "        vertical-align: middle;\n",
       "    }\n",
       "\n",
       "    .dataframe tbody tr th {\n",
       "        vertical-align: top;\n",
       "    }\n",
       "\n",
       "    .dataframe thead th {\n",
       "        text-align: right;\n",
       "    }\n",
       "</style>\n",
       "<table border=\"1\" class=\"dataframe\">\n",
       "  <thead>\n",
       "    <tr style=\"text-align: right;\">\n",
       "      <th></th>\n",
       "      <th>Index</th>\n",
       "      <th>IN_FID</th>\n",
       "      <th>NEAR_FID</th>\n",
       "      <th>机构名</th>\n",
       "      <th>床位数</th>\n",
       "      <th>wgs_lng</th>\n",
       "      <th>wgs_lat</th>\n",
       "      <th>POP</th>\n",
       "      <th>lng_84</th>\n",
       "      <th>lon_84</th>\n",
       "      <th>Time</th>\n",
       "      <th>Cost</th>\n",
       "      <th>Time_5</th>\n",
       "      <th>Cost_5</th>\n",
       "      <th>G</th>\n",
       "      <th>G*Dk</th>\n",
       "      <th>Rj</th>\n",
       "    </tr>\n",
       "  </thead>\n",
       "  <tbody>\n",
       "    <tr>\n",
       "      <th>0</th>\n",
       "      <td>1</td>\n",
       "      <td>0</td>\n",
       "      <td>411</td>\n",
       "      <td>广州市第一人民医院</td>\n",
       "      <td>990000</td>\n",
       "      <td>113.252797</td>\n",
       "      <td>23.133996</td>\n",
       "      <td>120239.8201</td>\n",
       "      <td>113.268876</td>\n",
       "      <td>23.133263</td>\n",
       "      <td>2042</td>\n",
       "      <td>2</td>\n",
       "      <td>1974</td>\n",
       "      <td>2</td>\n",
       "      <td>0.824632</td>\n",
       "      <td>99153.621860</td>\n",
       "      <td>0.182197</td>\n",
       "    </tr>\n",
       "    <tr>\n",
       "      <th>1</th>\n",
       "      <td>2</td>\n",
       "      <td>0</td>\n",
       "      <td>444</td>\n",
       "      <td>广州市第一人民医院</td>\n",
       "      <td>990000</td>\n",
       "      <td>113.252797</td>\n",
       "      <td>23.133996</td>\n",
       "      <td>100080.9571</td>\n",
       "      <td>113.249658</td>\n",
       "      <td>23.151595</td>\n",
       "      <td>1606</td>\n",
       "      <td>2</td>\n",
       "      <td>2143</td>\n",
       "      <td>2</td>\n",
       "      <td>0.890050</td>\n",
       "      <td>89077.071955</td>\n",
       "      <td>0.182197</td>\n",
       "    </tr>\n",
       "  </tbody>\n",
       "</table>\n",
       "</div>"
      ],
      "text/plain": [
       "   Index  IN_FID  NEAR_FID        机构名     床位数     wgs_lng    wgs_lat  \\\n",
       "0      1       0       411  广州市第一人民医院  990000  113.252797  23.133996   \n",
       "1      2       0       444  广州市第一人民医院  990000  113.252797  23.133996   \n",
       "\n",
       "           POP      lng_84     lon_84  Time  Cost  Time_5  Cost_5         G  \\\n",
       "0  120239.8201  113.268876  23.133263  2042     2    1974       2  0.824632   \n",
       "1  100080.9571  113.249658  23.151595  1606     2    2143       2  0.890050   \n",
       "\n",
       "           G*Dk        Rj  \n",
       "0  99153.621860  0.182197  \n",
       "1  89077.071955  0.182197  "
      ]
     },
     "execution_count": 17,
     "metadata": {},
     "output_type": "execute_result"
    }
   ],
   "source": [
    "OD_0_t_Rj.head(2)"
   ]
  },
  {
   "cell_type": "markdown",
   "id": "340773b3-b255-4da6-8892-9b56996219bc",
   "metadata": {},
   "source": [
    "### 3.1.2 Get Aj"
   ]
  },
  {
   "cell_type": "code",
   "execution_count": 18,
   "id": "56eb8b19-d205-43b9-9ee1-6ff0340a3836",
   "metadata": {},
   "outputs": [],
   "source": [
    "# Get G*Rj\n",
    "GR_0_t = get_2(OD_0_t_Rj, 'Rj')"
   ]
  },
  {
   "cell_type": "code",
   "execution_count": 19,
   "id": "d86ee311-3240-44d5-b149-f4cc53620eb9",
   "metadata": {},
   "outputs": [
    {
     "data": {
      "text/html": [
       "<div>\n",
       "<style scoped>\n",
       "    .dataframe tbody tr th:only-of-type {\n",
       "        vertical-align: middle;\n",
       "    }\n",
       "\n",
       "    .dataframe tbody tr th {\n",
       "        vertical-align: top;\n",
       "    }\n",
       "\n",
       "    .dataframe thead th {\n",
       "        text-align: right;\n",
       "    }\n",
       "</style>\n",
       "<table border=\"1\" class=\"dataframe\">\n",
       "  <thead>\n",
       "    <tr style=\"text-align: right;\">\n",
       "      <th></th>\n",
       "      <th>Index</th>\n",
       "      <th>IN_FID</th>\n",
       "      <th>NEAR_FID</th>\n",
       "      <th>机构名</th>\n",
       "      <th>床位数</th>\n",
       "      <th>wgs_lng</th>\n",
       "      <th>wgs_lat</th>\n",
       "      <th>POP</th>\n",
       "      <th>lng_84</th>\n",
       "      <th>lon_84</th>\n",
       "      <th>Time</th>\n",
       "      <th>Cost</th>\n",
       "      <th>Time_5</th>\n",
       "      <th>Cost_5</th>\n",
       "      <th>G</th>\n",
       "      <th>G*Dk</th>\n",
       "      <th>Rj</th>\n",
       "      <th>G*Rj</th>\n",
       "    </tr>\n",
       "  </thead>\n",
       "  <tbody>\n",
       "    <tr>\n",
       "      <th>13161</th>\n",
       "      <td>91658</td>\n",
       "      <td>77</td>\n",
       "      <td>46</td>\n",
       "      <td>广东省第二人民医院</td>\n",
       "      <td>433000</td>\n",
       "      <td>113.339985</td>\n",
       "      <td>23.090001</td>\n",
       "      <td>6908.763452</td>\n",
       "      <td>113.553502</td>\n",
       "      <td>22.695600</td>\n",
       "      <td>5153</td>\n",
       "      <td>10</td>\n",
       "      <td>13762</td>\n",
       "      <td>9</td>\n",
       "      <td>0.070459</td>\n",
       "      <td>486.787060</td>\n",
       "      <td>0.115691</td>\n",
       "      <td>0.008152</td>\n",
       "    </tr>\n",
       "    <tr>\n",
       "      <th>7135</th>\n",
       "      <td>52892</td>\n",
       "      <td>46</td>\n",
       "      <td>447</td>\n",
       "      <td>广东省中医院芳村医院</td>\n",
       "      <td>500000</td>\n",
       "      <td>113.238676</td>\n",
       "      <td>23.128581</td>\n",
       "      <td>115899.985900</td>\n",
       "      <td>113.308224</td>\n",
       "      <td>23.150748</td>\n",
       "      <td>2646</td>\n",
       "      <td>3</td>\n",
       "      <td>4710</td>\n",
       "      <td>4</td>\n",
       "      <td>0.712496</td>\n",
       "      <td>82578.306108</td>\n",
       "      <td>0.075204</td>\n",
       "      <td>0.053582</td>\n",
       "    </tr>\n",
       "  </tbody>\n",
       "</table>\n",
       "</div>"
      ],
      "text/plain": [
       "       Index  IN_FID  NEAR_FID         机构名     床位数     wgs_lng    wgs_lat  \\\n",
       "13161  91658      77        46   广东省第二人民医院  433000  113.339985  23.090001   \n",
       "7135   52892      46       447  广东省中医院芳村医院  500000  113.238676  23.128581   \n",
       "\n",
       "                 POP      lng_84     lon_84  Time  Cost  Time_5  Cost_5  \\\n",
       "13161    6908.763452  113.553502  22.695600  5153    10   13762       9   \n",
       "7135   115899.985900  113.308224  23.150748  2646     3    4710       4   \n",
       "\n",
       "              G          G*Dk        Rj      G*Rj  \n",
       "13161  0.070459    486.787060  0.115691  0.008152  \n",
       "7135   0.712496  82578.306108  0.075204  0.053582  "
      ]
     },
     "execution_count": 19,
     "metadata": {},
     "output_type": "execute_result"
    }
   ],
   "source": [
    "GR_0_t.sample(2)"
   ]
  },
  {
   "cell_type": "code",
   "execution_count": 20,
   "id": "ecd75f08-7dcb-4546-b69e-f1e6669499cb",
   "metadata": {},
   "outputs": [
    {
     "data": {
      "text/plain": [
       "NEAR_FID\n",
       "20    0.000751\n",
       "24    0.355750\n",
       "29    0.002090\n",
       "32    0.875654\n",
       "33    0.401598\n",
       "Name: G*Rj, dtype: float64"
      ]
     },
     "execution_count": 20,
     "metadata": {},
     "output_type": "execute_result"
    }
   ],
   "source": [
    "# Aj was obtained by 'NEAR_FID' classification\n",
    "result_0_t = GR_0_t.groupby('NEAR_FID')['G*Rj'].sum()\n",
    "\n",
    "result_0_t.head(5)"
   ]
  },
  {
   "cell_type": "code",
   "execution_count": 21,
   "id": "fef8b4a3-66c7-4745-ad5e-e444da9fd26b",
   "metadata": {},
   "outputs": [
    {
     "data": {
      "text/html": [
       "<div>\n",
       "<style scoped>\n",
       "    .dataframe tbody tr th:only-of-type {\n",
       "        vertical-align: middle;\n",
       "    }\n",
       "\n",
       "    .dataframe tbody tr th {\n",
       "        vertical-align: top;\n",
       "    }\n",
       "\n",
       "    .dataframe thead th {\n",
       "        text-align: right;\n",
       "    }\n",
       "</style>\n",
       "<table border=\"1\" class=\"dataframe\">\n",
       "  <thead>\n",
       "    <tr style=\"text-align: right;\">\n",
       "      <th></th>\n",
       "      <th>NEAR_FID</th>\n",
       "      <th>A_0_t</th>\n",
       "    </tr>\n",
       "  </thead>\n",
       "  <tbody>\n",
       "    <tr>\n",
       "      <th>0</th>\n",
       "      <td>20</td>\n",
       "      <td>0.000751</td>\n",
       "    </tr>\n",
       "    <tr>\n",
       "      <th>1</th>\n",
       "      <td>24</td>\n",
       "      <td>0.355750</td>\n",
       "    </tr>\n",
       "    <tr>\n",
       "      <th>2</th>\n",
       "      <td>29</td>\n",
       "      <td>0.002090</td>\n",
       "    </tr>\n",
       "    <tr>\n",
       "      <th>3</th>\n",
       "      <td>32</td>\n",
       "      <td>0.875654</td>\n",
       "    </tr>\n",
       "    <tr>\n",
       "      <th>4</th>\n",
       "      <td>33</td>\n",
       "      <td>0.401598</td>\n",
       "    </tr>\n",
       "  </tbody>\n",
       "</table>\n",
       "</div>"
      ],
      "text/plain": [
       "   NEAR_FID     A_0_t\n",
       "0        20  0.000751\n",
       "1        24  0.355750\n",
       "2        29  0.002090\n",
       "3        32  0.875654\n",
       "4        33  0.401598"
      ]
     },
     "execution_count": 21,
     "metadata": {},
     "output_type": "execute_result"
    }
   ],
   "source": [
    "# Convert to df\n",
    "result_0_t = pd.DataFrame(result_0_t).reset_index(drop=False)\n",
    "result_0_t.columns = ['NEAR_FID', 'A_0_t']\n",
    "result_0_t.head(5)"
   ]
  },
  {
   "cell_type": "markdown",
   "id": "f2672c09-11a2-4fa2-beae-e511adea2740",
   "metadata": {},
   "source": [
    "-------------------------------------------------------------------------------------------------------------------------"
   ]
  },
  {
   "cell_type": "markdown",
   "id": "51169fc3-8971-47b5-bfa6-728f10331b76",
   "metadata": {},
   "source": [
    "## 3.2 No-Subway Mode"
   ]
  },
  {
   "cell_type": "markdown",
   "id": "0db0da00-2c26-4b16-b8b3-6dababaa706e",
   "metadata": {},
   "source": [
    "### 3.2.1 Get Rj"
   ]
  },
  {
   "cell_type": "markdown",
   "id": "7b4d53e2-4ec7-48c0-a94c-0b47f2d18260",
   "metadata": {},
   "source": [
    "#### (1) Get G*Dk"
   ]
  },
  {
   "cell_type": "code",
   "execution_count": 22,
   "id": "e5db9cfe-6a11-42ff-85be-592d7a7f0d1b",
   "metadata": {},
   "outputs": [],
   "source": [
    "GD_5_t = get_1(OD, 'Time_5', 22616)"
   ]
  },
  {
   "cell_type": "code",
   "execution_count": 23,
   "id": "a414ebef-7247-4d98-8f71-ecd43b47eeb4",
   "metadata": {
    "scrolled": true
   },
   "outputs": [],
   "source": [
    "# Aggregated by IN_FID\n",
    "GD_5_t_group = GD_5_t.groupby('IN_FID')['G*Dk'].sum()\n",
    "GD_5_t_group = pd.DataFrame(GD_5_t_group).reset_index(drop=False)\n",
    "GD_5_t_group.columns = ['IN_FID', 'Sum_G*Dk']"
   ]
  },
  {
   "cell_type": "markdown",
   "id": "7c20880f-b167-4098-8a3c-be1cbb3e0fd5",
   "metadata": {},
   "source": [
    "#### (2) Get Rj"
   ]
  },
  {
   "cell_type": "code",
   "execution_count": 24,
   "id": "6d08afce-34e9-440e-9b2e-ad03050a956a",
   "metadata": {},
   "outputs": [],
   "source": [
    "# join the aggregated G*Dk to the original df\n",
    "GD_5_t_merged = pd.merge(GD_5_t_group, GD_5_t[['IN_FID', '床位数']], on='IN_FID', how='left')\n",
    "## Delete duplicates\n",
    "GD_5_t_merged = GD_5_t_merged.drop_duplicates().reset_index(drop=True)"
   ]
  },
  {
   "cell_type": "code",
   "execution_count": 25,
   "id": "526b81f9-6bb2-4b8c-8905-1c21d9acbd74",
   "metadata": {},
   "outputs": [],
   "source": [
    "GD_5_t_merged['Rj'] = GD_5_t_merged['床位数'] / GD_5_t_merged['Sum_G*Dk']"
   ]
  },
  {
   "cell_type": "code",
   "execution_count": 26,
   "id": "546b141e-8002-4736-afb4-10cf5e315b01",
   "metadata": {},
   "outputs": [
    {
     "data": {
      "text/html": [
       "<div>\n",
       "<style scoped>\n",
       "    .dataframe tbody tr th:only-of-type {\n",
       "        vertical-align: middle;\n",
       "    }\n",
       "\n",
       "    .dataframe tbody tr th {\n",
       "        vertical-align: top;\n",
       "    }\n",
       "\n",
       "    .dataframe thead th {\n",
       "        text-align: right;\n",
       "    }\n",
       "</style>\n",
       "<table border=\"1\" class=\"dataframe\">\n",
       "  <thead>\n",
       "    <tr style=\"text-align: right;\">\n",
       "      <th></th>\n",
       "      <th>IN_FID</th>\n",
       "      <th>Sum_G*Dk</th>\n",
       "      <th>床位数</th>\n",
       "      <th>Rj</th>\n",
       "    </tr>\n",
       "  </thead>\n",
       "  <tbody>\n",
       "    <tr>\n",
       "      <th>0</th>\n",
       "      <td>0</td>\n",
       "      <td>9.870961e+06</td>\n",
       "      <td>990000</td>\n",
       "      <td>0.100294</td>\n",
       "    </tr>\n",
       "    <tr>\n",
       "      <th>1</th>\n",
       "      <td>1</td>\n",
       "      <td>8.908461e+06</td>\n",
       "      <td>990000</td>\n",
       "      <td>0.111130</td>\n",
       "    </tr>\n",
       "    <tr>\n",
       "      <th>2</th>\n",
       "      <td>2</td>\n",
       "      <td>1.225795e+06</td>\n",
       "      <td>990000</td>\n",
       "      <td>0.807639</td>\n",
       "    </tr>\n",
       "    <tr>\n",
       "      <th>3</th>\n",
       "      <td>3</td>\n",
       "      <td>8.276107e+05</td>\n",
       "      <td>713000</td>\n",
       "      <td>0.861516</td>\n",
       "    </tr>\n",
       "    <tr>\n",
       "      <th>4</th>\n",
       "      <td>4</td>\n",
       "      <td>8.798226e+06</td>\n",
       "      <td>713000</td>\n",
       "      <td>0.081039</td>\n",
       "    </tr>\n",
       "  </tbody>\n",
       "</table>\n",
       "</div>"
      ],
      "text/plain": [
       "   IN_FID      Sum_G*Dk     床位数        Rj\n",
       "0       0  9.870961e+06  990000  0.100294\n",
       "1       1  8.908461e+06  990000  0.111130\n",
       "2       2  1.225795e+06  990000  0.807639\n",
       "3       3  8.276107e+05  713000  0.861516\n",
       "4       4  8.798226e+06  713000  0.081039"
      ]
     },
     "execution_count": 26,
     "metadata": {},
     "output_type": "execute_result"
    }
   ],
   "source": [
    "GD_5_t_merged.head(5)"
   ]
  },
  {
   "cell_type": "code",
   "execution_count": 27,
   "id": "b9713ff5-662e-4e02-9445-9d2fbfdd8211",
   "metadata": {},
   "outputs": [],
   "source": [
    "OD_5_t_Rj = pd.merge(OD, GD_5_t_merged[['IN_FID', 'Rj']], on='IN_FID', how='left')"
   ]
  },
  {
   "cell_type": "markdown",
   "id": "1a302c95-ad72-4a3e-8e63-2f422d574e4b",
   "metadata": {},
   "source": [
    "### 3.2.2 Get Aj"
   ]
  },
  {
   "cell_type": "code",
   "execution_count": 28,
   "id": "5a7cf658-a080-4059-ad3b-bec0bed1496d",
   "metadata": {},
   "outputs": [
    {
     "data": {
      "text/plain": [
       "NEAR_FID\n",
       "20    0.006929\n",
       "24    0.756982\n",
       "29    0.007228\n",
       "32    0.767548\n",
       "33    0.758182\n",
       "Name: G*Rj, dtype: float64"
      ]
     },
     "execution_count": 28,
     "metadata": {},
     "output_type": "execute_result"
    }
   ],
   "source": [
    "# Get G*Rj\n",
    "GR_5_t = get_2(OD_5_t_Rj, 'Rj')\n",
    "# Aj was obtained by 'NEAR_FID' classification\n",
    "result_5_t = GR_5_t.groupby('NEAR_FID')['G*Rj'].sum()\n",
    "\n",
    "result_5_t.head(5)"
   ]
  },
  {
   "cell_type": "code",
   "execution_count": 29,
   "id": "42909789-cb74-4aa2-b511-5ed3e2e8500c",
   "metadata": {},
   "outputs": [
    {
     "data": {
      "text/html": [
       "<div>\n",
       "<style scoped>\n",
       "    .dataframe tbody tr th:only-of-type {\n",
       "        vertical-align: middle;\n",
       "    }\n",
       "\n",
       "    .dataframe tbody tr th {\n",
       "        vertical-align: top;\n",
       "    }\n",
       "\n",
       "    .dataframe thead th {\n",
       "        text-align: right;\n",
       "    }\n",
       "</style>\n",
       "<table border=\"1\" class=\"dataframe\">\n",
       "  <thead>\n",
       "    <tr style=\"text-align: right;\">\n",
       "      <th></th>\n",
       "      <th>NEAR_FID</th>\n",
       "      <th>A_5_t</th>\n",
       "    </tr>\n",
       "  </thead>\n",
       "  <tbody>\n",
       "    <tr>\n",
       "      <th>0</th>\n",
       "      <td>20</td>\n",
       "      <td>0.006929</td>\n",
       "    </tr>\n",
       "    <tr>\n",
       "      <th>1</th>\n",
       "      <td>24</td>\n",
       "      <td>0.756982</td>\n",
       "    </tr>\n",
       "    <tr>\n",
       "      <th>2</th>\n",
       "      <td>29</td>\n",
       "      <td>0.007228</td>\n",
       "    </tr>\n",
       "    <tr>\n",
       "      <th>3</th>\n",
       "      <td>32</td>\n",
       "      <td>0.767548</td>\n",
       "    </tr>\n",
       "    <tr>\n",
       "      <th>4</th>\n",
       "      <td>33</td>\n",
       "      <td>0.758182</td>\n",
       "    </tr>\n",
       "  </tbody>\n",
       "</table>\n",
       "</div>"
      ],
      "text/plain": [
       "   NEAR_FID     A_5_t\n",
       "0        20  0.006929\n",
       "1        24  0.756982\n",
       "2        29  0.007228\n",
       "3        32  0.767548\n",
       "4        33  0.758182"
      ]
     },
     "execution_count": 29,
     "metadata": {},
     "output_type": "execute_result"
    }
   ],
   "source": [
    "# Convet to df\n",
    "result_5_t = pd.DataFrame(result_5_t).reset_index(drop=False)\n",
    "result_5_t.columns = ['NEAR_FID', 'A_5_t']\n",
    "result_5_t.head(5)"
   ]
  },
  {
   "cell_type": "markdown",
   "id": "10a4a2e7-7913-46d5-8fa1-7656d0258c06",
   "metadata": {},
   "source": [
    "# 4 Organize the resulting data"
   ]
  },
  {
   "cell_type": "code",
   "execution_count": 30,
   "id": "382753e1-2e77-481c-a7e3-ccc3d28f3795",
   "metadata": {},
   "outputs": [],
   "source": [
    "# Merge\n",
    "result = pd.merge(result_0_t, result_5_t, on='NEAR_FID')"
   ]
  },
  {
   "cell_type": "code",
   "execution_count": 31,
   "id": "5e4283b0-d015-4136-aa52-8e9af512ca5d",
   "metadata": {},
   "outputs": [
    {
     "name": "stdout",
     "output_type": "stream",
     "text": [
      "数据框的行数是: 1144\n"
     ]
    }
   ],
   "source": [
    "rows1 = result.shape[0]\n",
    "print(f\"数据框的行数是: {rows1}\")"
   ]
  },
  {
   "cell_type": "code",
   "execution_count": 32,
   "id": "8e24c7f3-152f-44f8-a5c8-09efb95a89c9",
   "metadata": {},
   "outputs": [
    {
     "data": {
      "text/html": [
       "<div>\n",
       "<style scoped>\n",
       "    .dataframe tbody tr th:only-of-type {\n",
       "        vertical-align: middle;\n",
       "    }\n",
       "\n",
       "    .dataframe tbody tr th {\n",
       "        vertical-align: top;\n",
       "    }\n",
       "\n",
       "    .dataframe thead th {\n",
       "        text-align: right;\n",
       "    }\n",
       "</style>\n",
       "<table border=\"1\" class=\"dataframe\">\n",
       "  <thead>\n",
       "    <tr style=\"text-align: right;\">\n",
       "      <th></th>\n",
       "      <th>NEAR_FID</th>\n",
       "      <th>A_0_t</th>\n",
       "      <th>A_5_t</th>\n",
       "    </tr>\n",
       "  </thead>\n",
       "  <tbody>\n",
       "    <tr>\n",
       "      <th>0</th>\n",
       "      <td>20</td>\n",
       "      <td>0.000751</td>\n",
       "      <td>0.006929</td>\n",
       "    </tr>\n",
       "  </tbody>\n",
       "</table>\n",
       "</div>"
      ],
      "text/plain": [
       "   NEAR_FID     A_0_t     A_5_t\n",
       "0        20  0.000751  0.006929"
      ]
     },
     "execution_count": 32,
     "metadata": {},
     "output_type": "execute_result"
    }
   ],
   "source": [
    "# Check\n",
    "result.head(1)"
   ]
  },
  {
   "cell_type": "code",
   "execution_count": 33,
   "id": "02a5a6b3-5a86-4b86-b405-fd9b87f979c7",
   "metadata": {},
   "outputs": [],
   "source": [
    "# Merge the POP point coordinates\n",
    "## Extract useful information from OD data box\n",
    "OD_sub = OD[['NEAR_FID', 'lng_84', 'lon_84']]\n",
    "\n",
    "## Delete duplicates (if not, columns will be duplicated after the left join)\n",
    "OD_sub_unique = OD_sub.drop_duplicates()\n",
    "\n",
    "## left join\n",
    "result = pd.merge(result, OD_sub_unique, on='NEAR_FID', how='left')\n",
    "\n",
    "# Calculate the difference\n",
    "result['△A_t'] = result['A_0_t'] - result['A_5_t']"
   ]
  },
  {
   "cell_type": "code",
   "execution_count": 34,
   "id": "0b7331f5-5e76-4632-86ed-4460ef1970c5",
   "metadata": {},
   "outputs": [
    {
     "data": {
      "text/html": [
       "<div>\n",
       "<style scoped>\n",
       "    .dataframe tbody tr th:only-of-type {\n",
       "        vertical-align: middle;\n",
       "    }\n",
       "\n",
       "    .dataframe tbody tr th {\n",
       "        vertical-align: top;\n",
       "    }\n",
       "\n",
       "    .dataframe thead th {\n",
       "        text-align: right;\n",
       "    }\n",
       "</style>\n",
       "<table border=\"1\" class=\"dataframe\">\n",
       "  <thead>\n",
       "    <tr style=\"text-align: right;\">\n",
       "      <th></th>\n",
       "      <th>NEAR_FID</th>\n",
       "      <th>A_0_t</th>\n",
       "      <th>A_5_t</th>\n",
       "      <th>lng_84</th>\n",
       "      <th>lon_84</th>\n",
       "      <th>△A_t</th>\n",
       "    </tr>\n",
       "  </thead>\n",
       "  <tbody>\n",
       "    <tr>\n",
       "      <th>1019</th>\n",
       "      <td>1499</td>\n",
       "      <td>0.622774</td>\n",
       "      <td>0.646810</td>\n",
       "      <td>113.707001</td>\n",
       "      <td>23.559599</td>\n",
       "      <td>-0.024036</td>\n",
       "    </tr>\n",
       "    <tr>\n",
       "      <th>186</th>\n",
       "      <td>278</td>\n",
       "      <td>0.031741</td>\n",
       "      <td>0.245806</td>\n",
       "      <td>113.305759</td>\n",
       "      <td>23.006332</td>\n",
       "      <td>-0.214065</td>\n",
       "    </tr>\n",
       "    <tr>\n",
       "      <th>63</th>\n",
       "      <td>135</td>\n",
       "      <td>0.691246</td>\n",
       "      <td>1.001277</td>\n",
       "      <td>113.458495</td>\n",
       "      <td>22.823479</td>\n",
       "      <td>-0.310030</td>\n",
       "    </tr>\n",
       "    <tr>\n",
       "      <th>445</th>\n",
       "      <td>566</td>\n",
       "      <td>0.807433</td>\n",
       "      <td>1.126212</td>\n",
       "      <td>113.523957</td>\n",
       "      <td>23.201602</td>\n",
       "      <td>-0.318779</td>\n",
       "    </tr>\n",
       "    <tr>\n",
       "      <th>939</th>\n",
       "      <td>1340</td>\n",
       "      <td>0.863300</td>\n",
       "      <td>2.484195</td>\n",
       "      <td>113.666394</td>\n",
       "      <td>23.488092</td>\n",
       "      <td>-1.620895</td>\n",
       "    </tr>\n",
       "  </tbody>\n",
       "</table>\n",
       "</div>"
      ],
      "text/plain": [
       "      NEAR_FID     A_0_t     A_5_t      lng_84     lon_84      △A_t\n",
       "1019      1499  0.622774  0.646810  113.707001  23.559599 -0.024036\n",
       "186        278  0.031741  0.245806  113.305759  23.006332 -0.214065\n",
       "63         135  0.691246  1.001277  113.458495  22.823479 -0.310030\n",
       "445        566  0.807433  1.126212  113.523957  23.201602 -0.318779\n",
       "939       1340  0.863300  2.484195  113.666394  23.488092 -1.620895"
      ]
     },
     "execution_count": 34,
     "metadata": {},
     "output_type": "execute_result"
    }
   ],
   "source": [
    "# Check\n",
    "result.sample(5)"
   ]
  },
  {
   "cell_type": "code",
   "execution_count": 35,
   "id": "5e2c51cb-7575-44a6-a520-dafaf2f63b69",
   "metadata": {},
   "outputs": [
    {
     "name": "stdout",
     "output_type": "stream",
     "text": [
      "Row number: 1144\n"
     ]
    }
   ],
   "source": [
    "rows2 = result.shape[0]\n",
    "print(f\"Row number: {rows2}\")"
   ]
  },
  {
   "cell_type": "markdown",
   "id": "abb315e9-7a0c-4542-b092-dfe1d013ae2c",
   "metadata": {},
   "source": [
    "# 5 Output"
   ]
  },
  {
   "cell_type": "code",
   "execution_count": 36,
   "id": "8d200a4e-83db-4eeb-bf47-8acc211b8dc8",
   "metadata": {},
   "outputs": [],
   "source": [
    "result.to_csv('Data/accessibility/acc_result/acc0813_2.csv', index=False, encoding='utf-8')"
   ]
  }
 ],
 "metadata": {
  "kernelspec": {
   "display_name": "Python 3 (ipykernel)",
   "language": "python",
   "name": "python3"
  },
  "language_info": {
   "codemirror_mode": {
    "name": "ipython",
    "version": 3
   },
   "file_extension": ".py",
   "mimetype": "text/x-python",
   "name": "python",
   "nbconvert_exporter": "python",
   "pygments_lexer": "ipython3",
   "version": "3.11.5"
  }
 },
 "nbformat": 4,
 "nbformat_minor": 5
}
